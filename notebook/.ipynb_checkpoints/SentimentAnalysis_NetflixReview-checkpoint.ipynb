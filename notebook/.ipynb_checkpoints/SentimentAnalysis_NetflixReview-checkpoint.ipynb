{
 "cells": [
  {
   "cell_type": "markdown",
   "id": "07b68ad1-76f5-4235-a233-b2f8b0a80834",
   "metadata": {},
   "source": [
    "## Netflix Sentiment Analysis with Hugging Face Transformers"
   ]
  },
  {
   "cell_type": "markdown",
   "id": "81549706-af4d-4f5b-a69d-a25c8dac8fdc",
   "metadata": {},
   "source": [
    "![cover](C:\\Users\\65814\\Deskto\\Netflix.jpg)"
   ]
  },
  {
   "cell_type": "markdown",
   "id": "a7f4a9a9-85fc-48a2-9725-9e9503ef8eed",
   "metadata": {},
   "source": [
    "### Source of Dataset\n",
    "\n",
    "Kaggle: https://www.kaggle.com/datasets/odins0n/top-20-play-store-app-reviews-daily-update?select=Netflix.csv"
   ]
  },
  {
   "cell_type": "markdown",
   "id": "5f00e7c8-6f51-4e9d-835a-3e3f23ef0b26",
   "metadata": {},
   "source": [
    "### Background\n",
    "\n",
    "This notebook explores the use of the Hugging Face Transformer model 'distilbert-base-uncased-finetuned-sst-2-english' to perform sentiment analysis."
   ]
  },
  {
   "cell_type": "markdown",
   "id": "6d231da0-76be-48ec-a3b5-d725999a2df7",
   "metadata": {},
   "source": [
    "### Import Essential Libraries"
   ]
  },
  {
   "cell_type": "code",
   "execution_count": 1,
   "id": "d0603f4e-b754-4c9d-83df-6d84ae6d4fa5",
   "metadata": {},
   "outputs": [],
   "source": [
    "# import required libraries\n",
    "import pandas as pd\n",
    "import numpy as np"
   ]
  },
  {
   "cell_type": "markdown",
   "id": "14248511-e1da-4ea8-beef-6a448a329104",
   "metadata": {},
   "source": [
    "### Load the Dataset"
   ]
  },
  {
   "cell_type": "code",
   "execution_count": 27,
   "id": "553c15af-2c68-467e-aa66-3845e03d3c76",
   "metadata": {},
   "outputs": [
    {
     "name": "stdout",
     "output_type": "stream",
     "text": [
      "The dataset contains 10000 rows and 3 columns.\n",
      "Attributes in the dataset: Index(['reviewId', 'content', 'score'], dtype='object')\n"
     ]
    },
    {
     "data": {
      "text/html": [
       "<div>\n",
       "<style scoped>\n",
       "    .dataframe tbody tr th:only-of-type {\n",
       "        vertical-align: middle;\n",
       "    }\n",
       "\n",
       "    .dataframe tbody tr th {\n",
       "        vertical-align: top;\n",
       "    }\n",
       "\n",
       "    .dataframe thead th {\n",
       "        text-align: right;\n",
       "    }\n",
       "</style>\n",
       "<table border=\"1\" class=\"dataframe\">\n",
       "  <thead>\n",
       "    <tr style=\"text-align: right;\">\n",
       "      <th></th>\n",
       "      <th>reviewId</th>\n",
       "      <th>content</th>\n",
       "      <th>score</th>\n",
       "    </tr>\n",
       "  </thead>\n",
       "  <tbody>\n",
       "    <tr>\n",
       "      <th>0</th>\n",
       "      <td>bdd267b4-4231-4a5d-b369-3ac9e5082fc5</td>\n",
       "      <td>Your device is not part of the Netflix Househo...</td>\n",
       "      <td>1</td>\n",
       "    </tr>\n",
       "    <tr>\n",
       "      <th>1</th>\n",
       "      <td>ccbfabb0-606f-4596-b269-9e805ca4d89f</td>\n",
       "      <td>I've been trying to pay for a month since I cr...</td>\n",
       "      <td>1</td>\n",
       "    </tr>\n",
       "    <tr>\n",
       "      <th>2</th>\n",
       "      <td>fe550ddd-1ae5-4902-9593-824ecb9b6598</td>\n",
       "      <td>I give netflix a two because even though it is...</td>\n",
       "      <td>2</td>\n",
       "    </tr>\n",
       "    <tr>\n",
       "      <th>3</th>\n",
       "      <td>af88cca4-6b92-4bac-bc1f-ac32e2591ac7</td>\n",
       "      <td>Abdulrhamam Sekh</td>\n",
       "      <td>4</td>\n",
       "    </tr>\n",
       "    <tr>\n",
       "      <th>4</th>\n",
       "      <td>44dc9335-68e4-4f30-8c0a-241c25be252b</td>\n",
       "      <td>Good</td>\n",
       "      <td>5</td>\n",
       "    </tr>\n",
       "  </tbody>\n",
       "</table>\n",
       "</div>"
      ],
      "text/plain": [
       "                               reviewId  \\\n",
       "0  bdd267b4-4231-4a5d-b369-3ac9e5082fc5   \n",
       "1  ccbfabb0-606f-4596-b269-9e805ca4d89f   \n",
       "2  fe550ddd-1ae5-4902-9593-824ecb9b6598   \n",
       "3  af88cca4-6b92-4bac-bc1f-ac32e2591ac7   \n",
       "4  44dc9335-68e4-4f30-8c0a-241c25be252b   \n",
       "\n",
       "                                             content  score  \n",
       "0  Your device is not part of the Netflix Househo...      1  \n",
       "1  I've been trying to pay for a month since I cr...      1  \n",
       "2  I give netflix a two because even though it is...      2  \n",
       "3                                   Abdulrhamam Sekh      4  \n",
       "4                                               Good      5  "
      ]
     },
     "metadata": {},
     "output_type": "display_data"
    }
   ],
   "source": [
    "# load the dataset\n",
    "data = pd.read_csv('../data/Netflix.csv')\n",
    "\n",
    "# check the dimension of the dataset\n",
    "numrow, numcol = data.shape\n",
    "print('The dataset contains {} rows and {} columns.'.format(numrow, numcol))\n",
    "\n",
    "# check the attributes in the dataset\n",
    "attributes = data.columns\n",
    "print('Attributes in the dataset:', attributes)\n",
    "\n",
    "# display the first 5 rows of the dataset\n",
    "display(data.head(n=5))"
   ]
  },
  {
   "cell_type": "code",
   "execution_count": 4,
   "id": "8658a134-d791-4e67-9037-44113c4a21bf",
   "metadata": {},
   "outputs": [
    {
     "name": "stdout",
     "output_type": "stream",
     "text": [
      "<class 'pandas.core.frame.DataFrame'>\n",
      "RangeIndex: 10000 entries, 0 to 9999\n",
      "Data columns (total 3 columns):\n",
      " #   Column    Non-Null Count  Dtype \n",
      "---  ------    --------------  ----- \n",
      " 0   reviewId  10000 non-null  object\n",
      " 1   content   9997 non-null   object\n",
      " 2   score     10000 non-null  int64 \n",
      "dtypes: int64(1), object(2)\n",
      "memory usage: 234.5+ KB\n"
     ]
    }
   ],
   "source": [
    "# summary of the dataset\n",
    "data.info()"
   ]
  },
  {
   "cell_type": "code",
   "execution_count": 28,
   "id": "515e0f0b-53cc-47b7-99dc-55d9b6ac9606",
   "metadata": {},
   "outputs": [
    {
     "name": "stdout",
     "output_type": "stream",
     "text": [
      "Number of duplicate records in the dataset: 0\n",
      "Number of missing value in each attributes:\n",
      "reviewId    0\n",
      "content     3\n",
      "score       0\n",
      "dtype: int64\n"
     ]
    }
   ],
   "source": [
    "# check duplicates and missing value in each attribute\n",
    "print('Number of duplicate records in the dataset:', data.duplicated().sum())\n",
    "print('Number of missing value in each attributes:')\n",
    "print(data.isna().sum())"
   ]
  },
  {
   "cell_type": "code",
   "execution_count": 29,
   "id": "4f46efda-eb7f-4fcc-a8e5-8435b216d73d",
   "metadata": {},
   "outputs": [],
   "source": [
    "# remove the records where variable 'content' is Null Value\n",
    "data.dropna(inplace=True)"
   ]
  },
  {
   "cell_type": "markdown",
   "id": "936fff75-dbf5-46a0-ab5d-c82bce26cb67",
   "metadata": {},
   "source": [
    "### Sentiment Analysis"
   ]
  },
  {
   "cell_type": "code",
   "execution_count": 12,
   "id": "4156bab6-c927-4dbb-8839-c4d07704e2cd",
   "metadata": {},
   "outputs": [],
   "source": [
    "from transformers import pipeline\n",
    "from transformers import DistilBertTokenizer, DistilBertForSequenceClassification\n",
    "\n",
    "tokenizer = DistilBertTokenizer.from_pretrained('distilbert-base-uncased-finetuned-sst-2-english')\n",
    "model = DistilBertForSequenceClassification.from_pretrained('distilbert-base-uncased-finetuned-sst-2-english')\n",
    "\n",
    "nlp = pipeline('sentiment-analysis', model=model, tokenizer=tokenizer)"
   ]
  },
  {
   "cell_type": "code",
   "execution_count": 13,
   "id": "8f6fdd84-2190-48c6-937a-933bb45143ce",
   "metadata": {},
   "outputs": [],
   "source": [
    "# sentiment analysis\n",
    "text = list(data['content'].values)\n",
    "results = nlp(text)"
   ]
  },
  {
   "cell_type": "code",
   "execution_count": 30,
   "id": "81317a3e-9491-452b-b805-1d1a23c9f937",
   "metadata": {},
   "outputs": [],
   "source": [
    "# insert the result columns in to the dataframe\n",
    "data['sentiment'] = [r['label'] for r in results]"
   ]
  },
  {
   "cell_type": "code",
   "execution_count": 32,
   "id": "ebb83d39-290b-4b2b-b8f4-9e47e844896c",
   "metadata": {},
   "outputs": [
    {
     "data": {
      "text/html": [
       "<div>\n",
       "<style scoped>\n",
       "    .dataframe tbody tr th:only-of-type {\n",
       "        vertical-align: middle;\n",
       "    }\n",
       "\n",
       "    .dataframe tbody tr th {\n",
       "        vertical-align: top;\n",
       "    }\n",
       "\n",
       "    .dataframe thead th {\n",
       "        text-align: right;\n",
       "    }\n",
       "</style>\n",
       "<table border=\"1\" class=\"dataframe\">\n",
       "  <thead>\n",
       "    <tr style=\"text-align: right;\">\n",
       "      <th></th>\n",
       "      <th>reviewId</th>\n",
       "      <th>content</th>\n",
       "      <th>score</th>\n",
       "      <th>sentiment</th>\n",
       "    </tr>\n",
       "  </thead>\n",
       "  <tbody>\n",
       "    <tr>\n",
       "      <th>4462</th>\n",
       "      <td>5a47448a-33d1-4cf9-8879-09c7a1062bbe</td>\n",
       "      <td>A stupid game add takes the whole screen of th...</td>\n",
       "      <td>1</td>\n",
       "      <td>NEGATIVE</td>\n",
       "    </tr>\n",
       "    <tr>\n",
       "      <th>1317</th>\n",
       "      <td>b3c439ce-98bf-401b-8eda-446165b041ff</td>\n",
       "      <td>Hi how are you watching movies with Netflix on it</td>\n",
       "      <td>2</td>\n",
       "      <td>POSITIVE</td>\n",
       "    </tr>\n",
       "    <tr>\n",
       "      <th>502</th>\n",
       "      <td>aa362273-0df5-439d-84b5-969d2e6cde15</td>\n",
       "      <td>Super</td>\n",
       "      <td>5</td>\n",
       "      <td>POSITIVE</td>\n",
       "    </tr>\n",
       "    <tr>\n",
       "      <th>1263</th>\n",
       "      <td>a7202d0f-633c-4efe-9f15-74f2afd44995</td>\n",
       "      <td>Thanks for giving me this app</td>\n",
       "      <td>5</td>\n",
       "      <td>POSITIVE</td>\n",
       "    </tr>\n",
       "    <tr>\n",
       "      <th>2793</th>\n",
       "      <td>25c5972e-842a-4a19-8171-85c5563ba23e</td>\n",
       "      <td>Z AA c😪</td>\n",
       "      <td>5</td>\n",
       "      <td>NEGATIVE</td>\n",
       "    </tr>\n",
       "    <tr>\n",
       "      <th>8293</th>\n",
       "      <td>1202804a-2406-4879-bb5d-417aeac27062</td>\n",
       "      <td>Getting rid of the basic plan and treating loy...</td>\n",
       "      <td>1</td>\n",
       "      <td>NEGATIVE</td>\n",
       "    </tr>\n",
       "    <tr>\n",
       "      <th>3580</th>\n",
       "      <td>d64ba9e5-7a52-4973-84ce-ffbf87c34b0a</td>\n",
       "      <td>Todos os conteúdos ficam carregando infinitame...</td>\n",
       "      <td>1</td>\n",
       "      <td>NEGATIVE</td>\n",
       "    </tr>\n",
       "    <tr>\n",
       "      <th>9809</th>\n",
       "      <td>55a999c0-4e9b-42eb-9a91-a3e78fcb430e</td>\n",
       "      <td>After downloaded the update. My netflix experi...</td>\n",
       "      <td>4</td>\n",
       "      <td>NEGATIVE</td>\n",
       "    </tr>\n",
       "    <tr>\n",
       "      <th>4382</th>\n",
       "      <td>efb0182f-1382-4029-ae4f-2d8b58af3465</td>\n",
       "      <td>Nood Ako Ng Netflix</td>\n",
       "      <td>5</td>\n",
       "      <td>NEGATIVE</td>\n",
       "    </tr>\n",
       "    <tr>\n",
       "      <th>9557</th>\n",
       "      <td>610fd332-2506-4a13-810c-dacd81f48815</td>\n",
       "      <td>Really glad with the app .it is convenient and...</td>\n",
       "      <td>5</td>\n",
       "      <td>POSITIVE</td>\n",
       "    </tr>\n",
       "  </tbody>\n",
       "</table>\n",
       "</div>"
      ],
      "text/plain": [
       "                                  reviewId  \\\n",
       "4462  5a47448a-33d1-4cf9-8879-09c7a1062bbe   \n",
       "1317  b3c439ce-98bf-401b-8eda-446165b041ff   \n",
       "502   aa362273-0df5-439d-84b5-969d2e6cde15   \n",
       "1263  a7202d0f-633c-4efe-9f15-74f2afd44995   \n",
       "2793  25c5972e-842a-4a19-8171-85c5563ba23e   \n",
       "8293  1202804a-2406-4879-bb5d-417aeac27062   \n",
       "3580  d64ba9e5-7a52-4973-84ce-ffbf87c34b0a   \n",
       "9809  55a999c0-4e9b-42eb-9a91-a3e78fcb430e   \n",
       "4382  efb0182f-1382-4029-ae4f-2d8b58af3465   \n",
       "9557  610fd332-2506-4a13-810c-dacd81f48815   \n",
       "\n",
       "                                                content  score sentiment  \n",
       "4462  A stupid game add takes the whole screen of th...      1  NEGATIVE  \n",
       "1317  Hi how are you watching movies with Netflix on it      2  POSITIVE  \n",
       "502                                               Super      5  POSITIVE  \n",
       "1263                      Thanks for giving me this app      5  POSITIVE  \n",
       "2793                                            Z AA c😪      5  NEGATIVE  \n",
       "8293  Getting rid of the basic plan and treating loy...      1  NEGATIVE  \n",
       "3580  Todos os conteúdos ficam carregando infinitame...      1  NEGATIVE  \n",
       "9809  After downloaded the update. My netflix experi...      4  NEGATIVE  \n",
       "4382                                Nood Ako Ng Netflix      5  NEGATIVE  \n",
       "9557  Really glad with the app .it is convenient and...      5  POSITIVE  "
      ]
     },
     "metadata": {},
     "output_type": "display_data"
    }
   ],
   "source": [
    "# display a random sample of the dataste\n",
    "display(data.sample(n=10))"
   ]
  }
 ],
 "metadata": {
  "kernelspec": {
   "display_name": "Python 3 (ipykernel)",
   "language": "python",
   "name": "python3"
  },
  "language_info": {
   "codemirror_mode": {
    "name": "ipython",
    "version": 3
   },
   "file_extension": ".py",
   "mimetype": "text/x-python",
   "name": "python",
   "nbconvert_exporter": "python",
   "pygments_lexer": "ipython3",
   "version": "3.9.19"
  }
 },
 "nbformat": 4,
 "nbformat_minor": 5
}
